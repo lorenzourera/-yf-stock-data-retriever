{
  "cells": [
    {
      "cell_type": "markdown",
      "source": [
        "# Yahoo Finance Stock Data Retriever"
      ],
      "metadata": {
        "id": "kw5moFKL1sk1"
      }
    },
    {
      "cell_type": "code",
      "execution_count": null,
      "metadata": {
        "colab": {
          "base_uri": "https://localhost:8080/"
        },
        "id": "1fA_CkhQNyGv",
        "outputId": "d120a1ef-6118-4981-948e-a505611fcf07"
      },
      "outputs": [
        {
          "output_type": "stream",
          "name": "stdout",
          "text": [
            "Looking in indexes: https://pypi.org/simple, https://us-python.pkg.dev/colab-wheels/public/simple/\n",
            "Requirement already satisfied: pandas_datareader in /usr/local/lib/python3.7/dist-packages (0.9.0)\n",
            "Requirement already satisfied: lxml in /usr/local/lib/python3.7/dist-packages (from pandas_datareader) (4.9.1)\n",
            "Requirement already satisfied: pandas>=0.23 in /usr/local/lib/python3.7/dist-packages (from pandas_datareader) (1.3.5)\n",
            "Requirement already satisfied: requests>=2.19.0 in /usr/local/lib/python3.7/dist-packages (from pandas_datareader) (2.28.1)\n",
            "Requirement already satisfied: python-dateutil>=2.7.3 in /usr/local/lib/python3.7/dist-packages (from pandas>=0.23->pandas_datareader) (2.8.2)\n",
            "Requirement already satisfied: pytz>=2017.3 in /usr/local/lib/python3.7/dist-packages (from pandas>=0.23->pandas_datareader) (2022.2.1)\n",
            "Requirement already satisfied: numpy>=1.17.3 in /usr/local/lib/python3.7/dist-packages (from pandas>=0.23->pandas_datareader) (1.21.6)\n",
            "Requirement already satisfied: six>=1.5 in /usr/local/lib/python3.7/dist-packages (from python-dateutil>=2.7.3->pandas>=0.23->pandas_datareader) (1.15.0)\n",
            "Requirement already satisfied: certifi>=2017.4.17 in /usr/local/lib/python3.7/dist-packages (from requests>=2.19.0->pandas_datareader) (2022.6.15)\n",
            "Requirement already satisfied: idna<4,>=2.5 in /usr/local/lib/python3.7/dist-packages (from requests>=2.19.0->pandas_datareader) (2.10)\n",
            "Requirement already satisfied: urllib3<1.27,>=1.21.1 in /usr/local/lib/python3.7/dist-packages (from requests>=2.19.0->pandas_datareader) (1.24.3)\n",
            "Requirement already satisfied: charset-normalizer<3,>=2 in /usr/local/lib/python3.7/dist-packages (from requests>=2.19.0->pandas_datareader) (2.1.1)\n",
            "Looking in indexes: https://pypi.org/simple, https://us-python.pkg.dev/colab-wheels/public/simple/\n",
            "Requirement already satisfied: yfinance in /usr/local/lib/python3.7/dist-packages (0.1.74)\n",
            "Requirement already satisfied: multitasking>=0.0.7 in /usr/local/lib/python3.7/dist-packages (from yfinance) (0.0.11)\n",
            "Requirement already satisfied: requests>=2.26 in /usr/local/lib/python3.7/dist-packages (from yfinance) (2.28.1)\n",
            "Requirement already satisfied: numpy>=1.15 in /usr/local/lib/python3.7/dist-packages (from yfinance) (1.21.6)\n",
            "Requirement already satisfied: pandas>=0.24.0 in /usr/local/lib/python3.7/dist-packages (from yfinance) (1.3.5)\n",
            "Requirement already satisfied: lxml>=4.5.1 in /usr/local/lib/python3.7/dist-packages (from yfinance) (4.9.1)\n",
            "Requirement already satisfied: python-dateutil>=2.7.3 in /usr/local/lib/python3.7/dist-packages (from pandas>=0.24.0->yfinance) (2.8.2)\n",
            "Requirement already satisfied: pytz>=2017.3 in /usr/local/lib/python3.7/dist-packages (from pandas>=0.24.0->yfinance) (2022.2.1)\n",
            "Requirement already satisfied: six>=1.5 in /usr/local/lib/python3.7/dist-packages (from python-dateutil>=2.7.3->pandas>=0.24.0->yfinance) (1.15.0)\n",
            "Requirement already satisfied: charset-normalizer<3,>=2 in /usr/local/lib/python3.7/dist-packages (from requests>=2.26->yfinance) (2.1.1)\n",
            "Requirement already satisfied: idna<4,>=2.5 in /usr/local/lib/python3.7/dist-packages (from requests>=2.26->yfinance) (2.10)\n",
            "Requirement already satisfied: urllib3<1.27,>=1.21.1 in /usr/local/lib/python3.7/dist-packages (from requests>=2.26->yfinance) (1.24.3)\n",
            "Requirement already satisfied: certifi>=2017.4.17 in /usr/local/lib/python3.7/dist-packages (from requests>=2.26->yfinance) (2022.6.15)\n"
          ]
        }
      ],
      "source": [
        "!pip install pandas_datareader\n",
        "!pip install yfinance"
      ]
    },
    {
      "cell_type": "code",
      "execution_count": null,
      "metadata": {
        "id": "Lcc_8A0yRQ65"
      },
      "outputs": [],
      "source": [
        "import pandas as pd\n",
        "import yfinance as yf\n",
        "import datetime as dt\n",
        "from google.colab import files\n",
        "import yfinance.shared as shared\n",
        "\n",
        "def get_stock_data(stock_symbols, start_date, end_date, timeframe, filename):\n",
        "  ticker_names = stock_symbols \n",
        "  start_date = start_date \n",
        "  end_date = end_date\n",
        "  time_frame = timeframe \n",
        "  filename = filename + \".csv\"\n",
        "\n",
        "  data = yf.download(tickers=ticker_names, start=start_date, end=end_date, interval=time_frame, missing_index=\"drop\")\n",
        "  data.to_csv(filename)\n",
        "  files.download(filename)\n",
        "  print(list(shared._ERRORS.keys()))\n",
        "\n",
        "  return"
      ]
    },
    {
      "cell_type": "code",
      "execution_count": null,
      "metadata": {
        "colab": {
          "base_uri": "https://localhost:8080/",
          "height": 52
        },
        "id": "UEv5P4xTTQnr",
        "outputId": "39466fb1-43ed-4e87-fd70-77ebd1e141e3"
      },
      "outputs": [
        {
          "output_type": "stream",
          "name": "stdout",
          "text": [
            "[*********************100%***********************]  75 of 75 completed\n"
          ]
        },
        {
          "output_type": "display_data",
          "data": {
            "text/plain": [
              "<IPython.core.display.Javascript object>"
            ],
            "application/javascript": [
              "\n",
              "    async function download(id, filename, size) {\n",
              "      if (!google.colab.kernel.accessAllowed) {\n",
              "        return;\n",
              "      }\n",
              "      const div = document.createElement('div');\n",
              "      const label = document.createElement('label');\n",
              "      label.textContent = `Downloading \"${filename}\": `;\n",
              "      div.appendChild(label);\n",
              "      const progress = document.createElement('progress');\n",
              "      progress.max = size;\n",
              "      div.appendChild(progress);\n",
              "      document.body.appendChild(div);\n",
              "\n",
              "      const buffers = [];\n",
              "      let downloaded = 0;\n",
              "\n",
              "      const channel = await google.colab.kernel.comms.open(id);\n",
              "      // Send a message to notify the kernel that we're ready.\n",
              "      channel.send({})\n",
              "\n",
              "      for await (const message of channel.messages) {\n",
              "        // Send a message to notify the kernel that we're ready.\n",
              "        channel.send({})\n",
              "        if (message.buffers) {\n",
              "          for (const buffer of message.buffers) {\n",
              "            buffers.push(buffer);\n",
              "            downloaded += buffer.byteLength;\n",
              "            progress.value = downloaded;\n",
              "          }\n",
              "        }\n",
              "      }\n",
              "      const blob = new Blob(buffers, {type: 'application/binary'});\n",
              "      const a = document.createElement('a');\n",
              "      a.href = window.URL.createObjectURL(blob);\n",
              "      a.download = filename;\n",
              "      div.appendChild(a);\n",
              "      a.click();\n",
              "      div.remove();\n",
              "    }\n",
              "  "
            ]
          },
          "metadata": {}
        },
        {
          "output_type": "display_data",
          "data": {
            "text/plain": [
              "<IPython.core.display.Javascript object>"
            ],
            "application/javascript": [
              "download(\"download_5c3b0c69-cb74-4865-9f85-4afdfad9272a\", \"prices_not_adjusted.csv\", 3979768)"
            ]
          },
          "metadata": {}
        },
        {
          "output_type": "stream",
          "name": "stdout",
          "text": [
            "[]\n"
          ]
        }
      ],
      "source": [
        "### Example\n",
        "\n",
        "## Arguments\n",
        "# stock_symbols = one or multiple tickers. Example \"AAPL\" or \"AAPL AMZN\"\n",
        "# start_date = Start date in YYYY-MM-DD format. Example \"2020-01-30\"\n",
        "# end_date = Start date in YYYY-MM-DD format. Example \"2020-01-30\"\n",
        "# timeframe = Time Frame or Candlestick sizes. Options are 1m, 2m, 5m, 15m, 30m, 60m, 90m, 1h, 1d, 5d, 1wk, 1mo, 3mo\n",
        "# filename = The name of the file you wish to contain the data. Example \"Monthly data\"\n",
        "\n",
        "\n",
        "# Edit the values per argument (in red). Make sure to follow the format mentioned in the example above. \n",
        "get_stock_data(stock_symbols=\"ADSK\tBEAM\tBEKE\tBIDU\tBLI\tCERS\tCFRX\tCGEN\tCMCM\tCOIN\tCRSP\tDDD\tDKNG\tDNA\tDOCU\tDOYU\tEDIT\tEXAS\tFATE\tHOOD\tHUYA\tICE\tILMN\tIOVA\tIRDM\tLC\tMCRB\tMETA\tMTLS\tNSTG\tNTLA\tNVS\tNVTA\tONVO\tPATH\tPCAR\tPD\tPINS\tPLTR\tPRLB\tPSTG\tPYPL\tRBLX\tREGN\tROKU\tSE\tSGFY\tSHOP\tSKLZ\tSNAP\tSNPS\tSPLK\tSPOT\tSQ\tSSYS\tSYRS\tTDOC\tTER\tTREE\tTRMB\tTSLA\tTSM\tTSP\tTWLO\tTWOU\tTWST\tTWTR\tTXG\tU\tVCYT\tZ\tZM\tZS SPY ARKK\", start_date = \"2020-02-28\", end_date = \"2022-06-30\", timeframe=\"1d\", filename=\"prices_not_adjusted\" )"
      ]
    },
    {
      "cell_type": "markdown",
      "source": [
        "# Appendix"
      ],
      "metadata": {
        "id": "rRVdxWLE1mfx"
      }
    },
    {
      "cell_type": "markdown",
      "source": [
        "## Check Autosuggestions\n"
      ],
      "metadata": {
        "id": "4E3IeYbruNd3"
      }
    },
    {
      "cell_type": "code",
      "source": [
        "!pip install selenium\n",
        "!apt-get update # to update ubuntu to correctly run apt install\n",
        "!apt install chromium-chromedriver\n",
        "!cp /usr/lib/chromium-browser/chromedriver /usr/bin"
      ],
      "metadata": {
        "colab": {
          "base_uri": "https://localhost:8080/",
          "height": 1000
        },
        "id": "-t-ygcwpuPUZ",
        "outputId": "dfb83c90-0300-4781-e04a-acbf0a5ceef4"
      },
      "execution_count": null,
      "outputs": [
        {
          "output_type": "stream",
          "name": "stdout",
          "text": [
            "Looking in indexes: https://pypi.org/simple, https://us-python.pkg.dev/colab-wheels/public/simple/\n",
            "Collecting selenium\n",
            "  Downloading selenium-4.3.0-py3-none-any.whl (981 kB)\n",
            "\u001b[K     |████████████████████████████████| 981 kB 7.0 MB/s \n",
            "\u001b[?25hCollecting urllib3[secure,socks]~=1.26\n",
            "  Downloading urllib3-1.26.10-py2.py3-none-any.whl (139 kB)\n",
            "\u001b[K     |████████████████████████████████| 139 kB 50.1 MB/s \n",
            "\u001b[?25hCollecting trio-websocket~=0.9\n",
            "  Downloading trio_websocket-0.9.2-py3-none-any.whl (16 kB)\n",
            "Collecting trio~=0.17\n",
            "  Downloading trio-0.21.0-py3-none-any.whl (358 kB)\n",
            "\u001b[K     |████████████████████████████████| 358 kB 44.9 MB/s \n",
            "\u001b[?25hRequirement already satisfied: sortedcontainers in /usr/local/lib/python3.7/dist-packages (from trio~=0.17->selenium) (2.4.0)\n",
            "Collecting sniffio\n",
            "  Downloading sniffio-1.2.0-py3-none-any.whl (10 kB)\n",
            "Requirement already satisfied: attrs>=19.2.0 in /usr/local/lib/python3.7/dist-packages (from trio~=0.17->selenium) (21.4.0)\n",
            "Collecting async-generator>=1.9\n",
            "  Downloading async_generator-1.10-py3-none-any.whl (18 kB)\n",
            "Collecting outcome\n",
            "  Downloading outcome-1.2.0-py2.py3-none-any.whl (9.7 kB)\n",
            "Requirement already satisfied: idna in /usr/local/lib/python3.7/dist-packages (from trio~=0.17->selenium) (2.10)\n",
            "Collecting wsproto>=0.14\n",
            "  Downloading wsproto-1.1.0-py3-none-any.whl (24 kB)\n",
            "Requirement already satisfied: certifi in /usr/local/lib/python3.7/dist-packages (from urllib3[secure,socks]~=1.26->selenium) (2022.6.15)\n",
            "Collecting pyOpenSSL>=0.14\n",
            "  Downloading pyOpenSSL-22.0.0-py2.py3-none-any.whl (55 kB)\n",
            "\u001b[K     |████████████████████████████████| 55 kB 2.6 MB/s \n",
            "\u001b[?25hCollecting cryptography>=1.3.4\n",
            "  Downloading cryptography-37.0.4-cp36-abi3-manylinux_2_24_x86_64.whl (4.1 MB)\n",
            "\u001b[K     |████████████████████████████████| 4.1 MB 45.3 MB/s \n",
            "\u001b[?25hRequirement already satisfied: PySocks!=1.5.7,<2.0,>=1.5.6 in /usr/local/lib/python3.7/dist-packages (from urllib3[secure,socks]~=1.26->selenium) (1.7.1)\n",
            "Requirement already satisfied: cffi>=1.12 in /usr/local/lib/python3.7/dist-packages (from cryptography>=1.3.4->urllib3[secure,socks]~=1.26->selenium) (1.15.1)\n",
            "Requirement already satisfied: pycparser in /usr/local/lib/python3.7/dist-packages (from cffi>=1.12->cryptography>=1.3.4->urllib3[secure,socks]~=1.26->selenium) (2.21)\n",
            "Collecting h11<1,>=0.9.0\n",
            "  Downloading h11-0.13.0-py3-none-any.whl (58 kB)\n",
            "\u001b[K     |████████████████████████████████| 58 kB 5.6 MB/s \n",
            "\u001b[?25hRequirement already satisfied: typing-extensions in /usr/local/lib/python3.7/dist-packages (from h11<1,>=0.9.0->wsproto>=0.14->trio-websocket~=0.9->selenium) (4.1.1)\n",
            "Installing collected packages: sniffio, outcome, h11, cryptography, async-generator, wsproto, urllib3, trio, pyOpenSSL, trio-websocket, selenium\n",
            "  Attempting uninstall: urllib3\n",
            "    Found existing installation: urllib3 1.24.3\n",
            "    Uninstalling urllib3-1.24.3:\n",
            "      Successfully uninstalled urllib3-1.24.3\n",
            "\u001b[31mERROR: pip's dependency resolver does not currently take into account all the packages that are installed. This behaviour is the source of the following dependency conflicts.\n",
            "google-colab 1.0.0 requires requests~=2.23.0, but you have requests 2.28.1 which is incompatible.\n",
            "datascience 0.10.6 requires folium==0.2.1, but you have folium 0.8.3 which is incompatible.\u001b[0m\n",
            "Successfully installed async-generator-1.10 cryptography-37.0.4 h11-0.13.0 outcome-1.2.0 pyOpenSSL-22.0.0 selenium-4.3.0 sniffio-1.2.0 trio-0.21.0 trio-websocket-0.9.2 urllib3-1.26.10 wsproto-1.1.0\n"
          ]
        },
        {
          "output_type": "display_data",
          "data": {
            "application/vnd.colab-display-data+json": {
              "pip_warning": {
                "packages": [
                  "urllib3"
                ]
              }
            }
          },
          "metadata": {}
        },
        {
          "output_type": "stream",
          "name": "stdout",
          "text": [
            "\r0% [Working]\r            \rGet:1 https://cloud.r-project.org/bin/linux/ubuntu bionic-cran40/ InRelease [3,626 B]\n",
            "\r0% [Connecting to archive.ubuntu.com] [Waiting for headers] [Connecting to ppa.\r                                                                               \rGet:2 https://developer.download.nvidia.com/compute/cuda/repos/ubuntu1804/x86_64  InRelease [1,581 B]\n",
            "\r0% [Connecting to archive.ubuntu.com] [Waiting for headers] [Connecting to ppa.\r0% [1 InRelease gpgv 3,626 B] [Connecting to archive.ubuntu.com] [Waiting for h\r                                                                               \rGet:3 http://security.ubuntu.com/ubuntu bionic-security InRelease [88.7 kB]\n",
            "\r0% [1 InRelease gpgv 3,626 B] [Connecting to archive.ubuntu.com] [3 InRelease 1\r                                                                               \rIgn:4 https://developer.download.nvidia.com/compute/machine-learning/repos/ubuntu1804/x86_64  InRelease\n",
            "Hit:5 https://developer.download.nvidia.com/compute/machine-learning/repos/ubuntu1804/x86_64  Release\n",
            "Hit:6 http://archive.ubuntu.com/ubuntu bionic InRelease\n",
            "Get:7 http://archive.ubuntu.com/ubuntu bionic-updates InRelease [88.7 kB]\n",
            "Get:8 http://ppa.launchpad.net/c2d4u.team/c2d4u4.0+/ubuntu bionic InRelease [15.9 kB]\n",
            "Get:9 http://archive.ubuntu.com/ubuntu bionic-backports InRelease [74.6 kB]\n",
            "Get:10 https://cloud.r-project.org/bin/linux/ubuntu bionic-cran40/ Packages [85.6 kB]\n",
            "Hit:11 http://ppa.launchpad.net/cran/libgit2/ubuntu bionic InRelease\n",
            "Get:12 https://developer.download.nvidia.com/compute/cuda/repos/ubuntu1804/x86_64  Packages [817 kB]\n",
            "Hit:13 http://ppa.launchpad.net/deadsnakes/ppa/ubuntu bionic InRelease\n",
            "Hit:14 http://ppa.launchpad.net/graphics-drivers/ppa/ubuntu bionic InRelease\n",
            "Get:16 http://security.ubuntu.com/ubuntu bionic-security/universe amd64 Packages [1,527 kB]\n",
            "Get:17 http://security.ubuntu.com/ubuntu bionic-security/restricted amd64 Packages [1,063 kB]\n",
            "Get:18 http://security.ubuntu.com/ubuntu bionic-security/main amd64 Packages [2,901 kB]\n",
            "Get:19 http://archive.ubuntu.com/ubuntu bionic-updates/main amd64 Packages [3,333 kB]\n",
            "Get:20 http://archive.ubuntu.com/ubuntu bionic-updates/restricted amd64 Packages [1,105 kB]\n",
            "Get:21 http://archive.ubuntu.com/ubuntu bionic-updates/universe amd64 Packages [2,304 kB]\n",
            "Get:22 http://ppa.launchpad.net/c2d4u.team/c2d4u4.0+/ubuntu bionic/main Sources [2,075 kB]\n",
            "Get:23 http://ppa.launchpad.net/c2d4u.team/c2d4u4.0+/ubuntu bionic/main amd64 Packages [1,063 kB]\n",
            "Fetched 16.5 MB in 7s (2,270 kB/s)\n",
            "Reading package lists... Done\n",
            "Reading package lists... Done\n",
            "Building dependency tree       \n",
            "Reading state information... Done\n",
            "The following package was automatically installed and is no longer required:\n",
            "  libnvidia-common-460\n",
            "Use 'apt autoremove' to remove it.\n",
            "The following additional packages will be installed:\n",
            "  chromium-browser chromium-browser-l10n chromium-codecs-ffmpeg-extra\n",
            "Suggested packages:\n",
            "  webaccounts-chromium-extension unity-chromium-extension\n",
            "The following NEW packages will be installed:\n",
            "  chromium-browser chromium-browser-l10n chromium-chromedriver\n",
            "  chromium-codecs-ffmpeg-extra\n",
            "0 upgraded, 4 newly installed, 0 to remove and 71 not upgraded.\n",
            "Need to get 89.8 MB of archives.\n",
            "After this operation, 302 MB of additional disk space will be used.\n",
            "Get:1 http://archive.ubuntu.com/ubuntu bionic-updates/universe amd64 chromium-codecs-ffmpeg-extra amd64 101.0.4951.64-0ubuntu0.18.04.1 [1,142 kB]\n",
            "Get:2 http://archive.ubuntu.com/ubuntu bionic-updates/universe amd64 chromium-browser amd64 101.0.4951.64-0ubuntu0.18.04.1 [78.5 MB]\n",
            "Get:3 http://archive.ubuntu.com/ubuntu bionic-updates/universe amd64 chromium-browser-l10n all 101.0.4951.64-0ubuntu0.18.04.1 [4,980 kB]\n",
            "Get:4 http://archive.ubuntu.com/ubuntu bionic-updates/universe amd64 chromium-chromedriver amd64 101.0.4951.64-0ubuntu0.18.04.1 [5,153 kB]\n",
            "Fetched 89.8 MB in 3s (30.7 MB/s)\n",
            "Selecting previously unselected package chromium-codecs-ffmpeg-extra.\n",
            "(Reading database ... 155653 files and directories currently installed.)\n",
            "Preparing to unpack .../chromium-codecs-ffmpeg-extra_101.0.4951.64-0ubuntu0.18.04.1_amd64.deb ...\n",
            "Unpacking chromium-codecs-ffmpeg-extra (101.0.4951.64-0ubuntu0.18.04.1) ...\n",
            "Selecting previously unselected package chromium-browser.\n",
            "Preparing to unpack .../chromium-browser_101.0.4951.64-0ubuntu0.18.04.1_amd64.deb ...\n",
            "Unpacking chromium-browser (101.0.4951.64-0ubuntu0.18.04.1) ...\n",
            "Selecting previously unselected package chromium-browser-l10n.\n",
            "Preparing to unpack .../chromium-browser-l10n_101.0.4951.64-0ubuntu0.18.04.1_all.deb ...\n",
            "Unpacking chromium-browser-l10n (101.0.4951.64-0ubuntu0.18.04.1) ...\n",
            "Selecting previously unselected package chromium-chromedriver.\n",
            "Preparing to unpack .../chromium-chromedriver_101.0.4951.64-0ubuntu0.18.04.1_amd64.deb ...\n",
            "Unpacking chromium-chromedriver (101.0.4951.64-0ubuntu0.18.04.1) ...\n",
            "Setting up chromium-codecs-ffmpeg-extra (101.0.4951.64-0ubuntu0.18.04.1) ...\n",
            "Setting up chromium-browser (101.0.4951.64-0ubuntu0.18.04.1) ...\n",
            "update-alternatives: using /usr/bin/chromium-browser to provide /usr/bin/x-www-browser (x-www-browser) in auto mode\n",
            "update-alternatives: using /usr/bin/chromium-browser to provide /usr/bin/gnome-www-browser (gnome-www-browser) in auto mode\n",
            "Setting up chromium-chromedriver (101.0.4951.64-0ubuntu0.18.04.1) ...\n",
            "Setting up chromium-browser-l10n (101.0.4951.64-0ubuntu0.18.04.1) ...\n",
            "Processing triggers for man-db (2.8.3-2ubuntu0.1) ...\n",
            "Processing triggers for hicolor-icon-theme (0.17-2) ...\n",
            "Processing triggers for mime-support (3.60ubuntu1) ...\n",
            "Processing triggers for libc-bin (2.27-3ubuntu1.3) ...\n",
            "/sbin/ldconfig.real: /usr/local/lib/python3.7/dist-packages/ideep4py/lib/libmkldnn.so.0 is not a symbolic link\n",
            "\n",
            "cp: '/usr/lib/chromium-browser/chromedriver' and '/usr/bin/chromedriver' are the same file\n"
          ]
        }
      ]
    },
    {
      "cell_type": "code",
      "source": [
        "from selenium import webdriver\n",
        "from selenium.webdriver.chrome.options import Options\n",
        "from selenium.webdriver.support.ui import WebDriverWait\n",
        "from selenium.webdriver.common.by import By\n",
        "from selenium.webdriver.support import expected_conditions as EC\n",
        "\n",
        "options = Options()\n",
        "options.add_argument(\"start-maximized\")\n",
        "options.add_argument(\"disable-infobars\")\n",
        "options.add_argument(\"--disable-extensions\")\n",
        "options.add_argument('--headless')\n",
        "options.add_argument('--no-sandbox')\n",
        "options.add_argument('--disable-dev-shm-usage')\n",
        "#options.add_argument('headless') #optional for headless driver\n",
        "\n",
        "driver = webdriver.Chrome('chromedriver', chrome_options=options)\n",
        "driver.get('https://finance.yahoo.com/')\n",
        "# driver.find_element(\"xpath\", \"//button[@type='submit' and @value='agree']\").click() #for cookie consent\n",
        "\n",
        "WebDriverWait(driver, 5).until(EC.element_to_be_clickable((By.XPATH, \"//input[@name='yfin-usr-qry']\"))).send_keys(\"goog\")\n",
        "yahoo_fin_auto_suggestions = WebDriverWait(driver, 20).until(EC.visibility_of_all_elements_located((By.XPATH, '(//div[@class=\"modules_quoteSymbol__hpPcM modules_Ell__77DLP modules_IbBox__2pmLe\"])')))\n",
        "\n",
        "\n",
        "print(yahoo_fin_auto_suggestions)\n",
        "\n",
        "for item in yahoo_fin_auto_suggestions:\n",
        "    print(item.text)"
      ],
      "metadata": {
        "colab": {
          "base_uri": "https://localhost:8080/"
        },
        "id": "Xq-1ttioxrrH",
        "outputId": "a97ce041-0c51-4a2f-e5ce-89f7995dd29e"
      },
      "execution_count": null,
      "outputs": [
        {
          "output_type": "stream",
          "name": "stderr",
          "text": [
            "/usr/local/lib/python3.7/dist-packages/ipykernel_launcher.py:16: DeprecationWarning: use options instead of chrome_options\n",
            "  app.launch_new_instance()\n"
          ]
        },
        {
          "output_type": "stream",
          "name": "stdout",
          "text": [
            "[<selenium.webdriver.remote.webelement.WebElement (session=\"4d26c7019d6829dfed093c6cc8b7f7b4\", element=\"d03f157c-3438-4577-9542-944b877ab9f0\")>, <selenium.webdriver.remote.webelement.WebElement (session=\"4d26c7019d6829dfed093c6cc8b7f7b4\", element=\"3bb6890f-445c-495c-83b6-bc9129f570fd\")>, <selenium.webdriver.remote.webelement.WebElement (session=\"4d26c7019d6829dfed093c6cc8b7f7b4\", element=\"2ed39526-5590-45ab-bce2-e7e1b6af0a0f\")>, <selenium.webdriver.remote.webelement.WebElement (session=\"4d26c7019d6829dfed093c6cc8b7f7b4\", element=\"73fd5f89-1a79-437b-bbd5-229373e89334\")>, <selenium.webdriver.remote.webelement.WebElement (session=\"4d26c7019d6829dfed093c6cc8b7f7b4\", element=\"52e81f7c-2d2a-4197-8438-efe6c315bd0a\")>, <selenium.webdriver.remote.webelement.WebElement (session=\"4d26c7019d6829dfed093c6cc8b7f7b4\", element=\"1be472f5-d0fe-49ba-b05b-0d6dafaaedcc\")>]\n",
            "GOOG\n",
            "GOOGL\n",
            "GOOGL-USD\n",
            "GOOG.NE\n",
            "GOOGL.MI\n",
            "PRIVATE\n"
          ]
        }
      ]
    },
    {
      "cell_type": "code",
      "source": [
        "def get_stock_symbol_suggestions(ticker_name): \n",
        "  list_of_similar_symbols = [] \n",
        "\n",
        "  options = Options()\n",
        "  options.add_argument(\"start-maximized\")\n",
        "  options.add_argument(\"disable-infobars\")\n",
        "  options.add_argument(\"--disable-extensions\")\n",
        "  options.add_argument('--headless')\n",
        "  options.add_argument('--no-sandbox')\n",
        "  options.add_argument('--disable-dev-shm-usage')\n",
        "  #options.add_argument('headless') #optional for headless driver\n",
        "\n",
        "  driver = webdriver.Chrome('chromedriver', chrome_options=options)\n",
        "  driver.get('https://finance.yahoo.com/')\n",
        "  # driver.find_element(\"xpath\", \"//button[@type='submit' and @value='agree']\").click() #for cookie consent\n",
        "\n",
        "  WebDriverWait(driver, 5).until(EC.element_to_be_clickable((By.XPATH, \"//input[@name='yfin-usr-qry']\"))).send_keys(ticker_name)\n",
        "  yahoo_fin_auto_suggestions = WebDriverWait(driver, 20).until(EC.visibility_of_all_elements_located((By.XPATH, '(//div[@class=\"modules_quoteSymbol__hpPcM modules_Ell__77DLP modules_IbBox__2pmLe\"])')))\n",
        "\n",
        "  for item in yahoo_fin_auto_suggestions:\n",
        "    list_of_similar_symbols.append(item.text)\n",
        "  \n",
        "  return list_of_similar_symbols\n"
      ],
      "metadata": {
        "id": "-NIpL0k09MKI"
      },
      "execution_count": null,
      "outputs": []
    },
    {
      "cell_type": "markdown",
      "source": [],
      "metadata": {
        "id": "f5X6DrYf1p5S"
      }
    },
    {
      "cell_type": "markdown",
      "source": [
        "## Match Stock Suffixes with Dictionary"
      ],
      "metadata": {
        "id": "eh3cE1PiDUiJ"
      }
    },
    {
      "cell_type": "code",
      "source": [
        "# parse the tickets\n",
        "\n",
        "tickers_string = \"\"\"SHV\n",
        "GLDM\n",
        "TYU2 Comdty\n",
        "VTI\n",
        "WNU2 Comdty\n",
        "VWO\n",
        "VEA\n",
        "^TYX\n",
        "^TYX\n",
        "VIPSX\n",
        "VIPSX\n",
        "VIPSX\n",
        "VIPSX\n",
        "Cash&Other\n",
        "VIPSX\n",
        "VIPSX\n",
        "VIPSX\n",
        "VIPSX\n",
        "XOM\n",
        "BHP\n",
        "DE\n",
        "VIPSX\n",
        "CVX\n",
        "RIO\n",
        "VIPSX\n",
        "912810QF8\n",
        "SHEL\n",
        "GLEN LN\n",
        "VALE\n",
        "NTR CN\n",
        "CTVA\n",
        "PTR\n",
        "TTE\n",
        "FCX\n",
        "FMG AU\n",
        "COP\n",
        "AAL LN\n",
        "SCCO\n",
        "EQNR\n",
        "ECL\n",
        "BP\n",
        "ENPH\n",
        "SQM\n",
        "VWS DC\n",
        "SNP\n",
        "6326 JP\n",
        "CF\n",
        "WDS\n",
        "MOS\n",
        "CNHI\n",
        "EOG\n",
        "CNQ CN\n",
        "OXY\n",
        "AWK\n",
        "SEDG\n",
        "FERG LN\n",
        "PXD\n",
        "968 HK\n",
        "3993 HK\n",
        "E\n",
        "FMC\n",
        "SU CN\n",
        "TECK/B CN\n",
        "MOWI NO\n",
        "SGRE SM\n",
        "DVN\n",
        "ANTO LN\n",
        "YAR NO\n",
        "2208 HK\n",
        "CVE CN\n",
        "GEBN SW\n",
        "VIE FP\n",
        "FM CN\n",
        "OCI NA\n",
        "HES\n",
        "S32 AU\n",
        "XYL\n",
        "IMO CN\n",
        "PLUG\n",
        "IEX\n",
        "SALM NO\n",
        "KAP LI\n",
        "WDS AU\n",
        "CCO CN\n",
        "5713 JP\n",
        "BOL SS\n",
        "AGCO\n",
        "TTC\n",
        "CLR\n",
        "358 HK\n",
        "CTRA\n",
        "IVN CN\n",
        "REP SM\n",
        "FANG\n",
        "MIN AU\n",
        "SSLZY\n",
        "SDF GR\n",
        "TOU CN\n",
        "MP\n",
        "OMV AV\n",
        "MRO\n",
        "EC\n",
        "LUN CN\n",
        "NDA GR\n",
        "IVCGF\n",
        "LKOD LI\n",
        "MNOD LI\n",
        "NVTK LI\n",
        "OGZD LI\n",
        "PHOR LI\n",
        "ROSN LI\"\"\"\n",
        "\n",
        "list_of_tickers = tickers_string.split('\\n')\n",
        "# print(list_of_tickers)\n",
        "\n",
        "# get suffix\n",
        "\n",
        "list_of_tickers_to_clean = []\n",
        "\n",
        "for x in list_of_tickers: \n",
        "  temp_list = x.split(\" \")\n",
        "\n",
        "  if len(temp_list) == 1: \n",
        "    list_of_tickers_to_clean.append(temp_list)\n",
        "    continue\n",
        "  \n",
        "  else: \n",
        "    list_of_tickers_to_clean.append(temp_list)\n",
        "  \n",
        "\n",
        "print(list_of_tickers_to_clean)\n",
        "len(list_of_tickers_to_clean)\n",
        "\n",
        "\n",
        "# convert suffix to yahoo finance equivalent"
      ],
      "metadata": {
        "colab": {
          "base_uri": "https://localhost:8080/"
        },
        "id": "SPc4Ml_lABT6",
        "outputId": "67c37d20-5ea4-4e59-a286-52c46bd11c51"
      },
      "execution_count": null,
      "outputs": [
        {
          "output_type": "stream",
          "name": "stdout",
          "text": [
            "[['SHV'], ['GLDM'], ['TYU2', 'Comdty'], ['VTI'], ['WNU2', 'Comdty'], ['VWO'], ['VEA'], ['^TYX'], ['^TYX'], ['VIPSX'], ['VIPSX'], ['VIPSX'], ['VIPSX'], ['Cash&Other'], ['VIPSX'], ['VIPSX'], ['VIPSX'], ['VIPSX'], ['XOM'], ['BHP'], ['DE'], ['VIPSX'], ['CVX'], ['RIO'], ['VIPSX'], ['912810QF8'], ['SHEL'], ['GLEN', 'LN'], ['VALE'], ['NTR', 'CN'], ['CTVA'], ['PTR'], ['TTE'], ['FCX'], ['FMG', 'AU'], ['COP'], ['AAL', 'LN'], ['SCCO'], ['EQNR'], ['ECL'], ['BP'], ['ENPH'], ['SQM'], ['VWS', 'DC'], ['SNP'], ['6326', 'JP'], ['CF'], ['WDS'], ['MOS'], ['CNHI'], ['EOG'], ['CNQ', 'CN'], ['OXY'], ['AWK'], ['SEDG'], ['FERG', 'LN'], ['PXD'], ['968', 'HK'], ['3993', 'HK'], ['E'], ['FMC'], ['SU', 'CN'], ['TECK/B', 'CN'], ['MOWI', 'NO'], ['SGRE', 'SM'], ['DVN'], ['ANTO', 'LN'], ['YAR', 'NO'], ['2208', 'HK'], ['CVE', 'CN'], ['GEBN', 'SW'], ['VIE', 'FP'], ['FM', 'CN'], ['OCI', 'NA'], ['HES'], ['S32', 'AU'], ['XYL'], ['IMO', 'CN'], ['PLUG'], ['IEX'], ['SALM', 'NO'], ['KAP', 'LI'], ['WDS', 'AU'], ['CCO', 'CN'], ['5713', 'JP'], ['BOL', 'SS'], ['AGCO'], ['TTC'], ['CLR'], ['358', 'HK'], ['CTRA'], ['IVN', 'CN'], ['REP', 'SM'], ['FANG'], ['MIN', 'AU'], ['SSLZY'], ['SDF', 'GR'], ['TOU', 'CN'], ['MP'], ['OMV', 'AV'], ['MRO'], ['EC'], ['LUN', 'CN'], ['NDA', 'GR'], ['IVCGF'], ['LKOD', 'LI'], ['MNOD', 'LI'], ['NVTK', 'LI'], ['OGZD', 'LI'], ['PHOR', 'LI'], ['ROSN', 'LI']]\n"
          ]
        },
        {
          "output_type": "execute_result",
          "data": {
            "text/plain": [
              "111"
            ]
          },
          "metadata": {},
          "execution_count": 7
        }
      ]
    },
    {
      "cell_type": "code",
      "source": [
        "# dictionary for stock exchange equivalencies \n",
        "stock_exchange_equivalents = { \"LN\": \"L\", \n",
        "                            \"CN\": \"CN\", \n",
        "                            \"AU\": \"AX\",\n",
        "                            \"DC\": \"CO\", \n",
        "                            \"JP\": \"T\", \n",
        "                            \"HK\": \"HK\", \n",
        "                            \"NO\": \"OL\", \n",
        "                            \"SM\": \"MC\", \n",
        "                            \"SW\": \"SW\", \n",
        "                            \"FP\": \"PA\", \n",
        "                            \"NA\": \"AS\", \n",
        "                            \"LI\": \"IL\", \n",
        "                            \"SS\": \"ST\", \n",
        "                            \"GR\": \"DE\", \n",
        "                            \"AV\": \"VI\"    \n",
        "                          }\n",
        "\n",
        "list_of_tickers_cleaned = list()\n",
        "\n",
        "for ticker in list_of_tickers_to_clean:\n",
        "\n",
        "  try: \n",
        "    uncleaned_suffix = ticker[-1]\n",
        "  except:\n",
        "    list_of_tickers_cleaned.append(ticker)\n",
        "    continue\n",
        "\n",
        "  if stock_exchange_equivalents.get(uncleaned_suffix) is None: \n",
        "    list_of_tickers_cleaned.append(ticker)\n",
        "    continue\n",
        "\n",
        "  else:\n",
        "\n",
        "    print(\"The uncleaned suffix is {}\".format(uncleaned_suffix))\n",
        "    print(\"The Cleaned suffix is {}\".format(stock_exchange_equivalents.get(uncleaned_suffix)))\n",
        "\n",
        "    # get the cleaned suffix \n",
        "    cleaned_suffix = stock_exchange_equivalents.get(uncleaned_suffix)\n",
        "\n",
        "    ticker_new = ticker  \n",
        "\n",
        "    print(ticker_new)\n",
        "\n",
        "    print(\"Replacing {} with {}\".format(uncleaned_suffix, cleaned_suffix))\n",
        "    ticker_new.remove(uncleaned_suffix)\n",
        "    ticker_new.append(cleaned_suffix)\n",
        "    list_of_tickers_cleaned.append(ticker_new)\n",
        "\n",
        "\n",
        "final_list_of_tickers = list() \n",
        "\n",
        "for x in list_of_tickers_cleaned: \n",
        "\n",
        "  if len(x) == 2:\n",
        "    final_ticker = x[0] + \".\" + x[-1]\n",
        "  else:\n",
        "    final_ticker = x[0]\n",
        "\n",
        "  final_list_of_tickers.append(final_ticker)\n",
        "\n",
        "\n",
        "x = pd.Series(final_list_of_tickers)\n",
        "list_of_tickers_str = \" \".join(final_list_of_tickers)\n",
        "\n",
        "print(list_of_tickers_str)\n",
        "\n",
        "\n",
        "    \n",
        "  \n",
        "\n",
        "\n",
        "\n"
      ],
      "metadata": {
        "colab": {
          "base_uri": "https://localhost:8080/"
        },
        "id": "1-QngGEgnv7I",
        "outputId": "1606a2b8-0f29-4ab6-b325-aa7255d392fa"
      },
      "execution_count": null,
      "outputs": [
        {
          "output_type": "stream",
          "name": "stdout",
          "text": [
            "The uncleaned suffix is LN\n",
            "The Cleaned suffix is L\n",
            "['GLEN', 'LN']\n",
            "Replacing LN with L\n",
            "The uncleaned suffix is CN\n",
            "The Cleaned suffix is CN\n",
            "['NTR', 'CN']\n",
            "Replacing CN with CN\n",
            "The uncleaned suffix is AU\n",
            "The Cleaned suffix is AX\n",
            "['FMG', 'AU']\n",
            "Replacing AU with AX\n",
            "The uncleaned suffix is LN\n",
            "The Cleaned suffix is L\n",
            "['AAL', 'LN']\n",
            "Replacing LN with L\n",
            "The uncleaned suffix is DC\n",
            "The Cleaned suffix is CO\n",
            "['VWS', 'DC']\n",
            "Replacing DC with CO\n",
            "The uncleaned suffix is JP\n",
            "The Cleaned suffix is T\n",
            "['6326', 'JP']\n",
            "Replacing JP with T\n",
            "The uncleaned suffix is CN\n",
            "The Cleaned suffix is CN\n",
            "['CNQ', 'CN']\n",
            "Replacing CN with CN\n",
            "The uncleaned suffix is LN\n",
            "The Cleaned suffix is L\n",
            "['FERG', 'LN']\n",
            "Replacing LN with L\n",
            "The uncleaned suffix is HK\n",
            "The Cleaned suffix is HK\n",
            "['968', 'HK']\n",
            "Replacing HK with HK\n",
            "The uncleaned suffix is HK\n",
            "The Cleaned suffix is HK\n",
            "['3993', 'HK']\n",
            "Replacing HK with HK\n",
            "The uncleaned suffix is CN\n",
            "The Cleaned suffix is CN\n",
            "['SU', 'CN']\n",
            "Replacing CN with CN\n",
            "The uncleaned suffix is CN\n",
            "The Cleaned suffix is CN\n",
            "['TECK/B', 'CN']\n",
            "Replacing CN with CN\n",
            "The uncleaned suffix is NO\n",
            "The Cleaned suffix is OL\n",
            "['MOWI', 'NO']\n",
            "Replacing NO with OL\n",
            "The uncleaned suffix is SM\n",
            "The Cleaned suffix is MC\n",
            "['SGRE', 'SM']\n",
            "Replacing SM with MC\n",
            "The uncleaned suffix is LN\n",
            "The Cleaned suffix is L\n",
            "['ANTO', 'LN']\n",
            "Replacing LN with L\n",
            "The uncleaned suffix is NO\n",
            "The Cleaned suffix is OL\n",
            "['YAR', 'NO']\n",
            "Replacing NO with OL\n",
            "The uncleaned suffix is HK\n",
            "The Cleaned suffix is HK\n",
            "['2208', 'HK']\n",
            "Replacing HK with HK\n",
            "The uncleaned suffix is CN\n",
            "The Cleaned suffix is CN\n",
            "['CVE', 'CN']\n",
            "Replacing CN with CN\n",
            "The uncleaned suffix is SW\n",
            "The Cleaned suffix is SW\n",
            "['GEBN', 'SW']\n",
            "Replacing SW with SW\n",
            "The uncleaned suffix is FP\n",
            "The Cleaned suffix is PA\n",
            "['VIE', 'FP']\n",
            "Replacing FP with PA\n",
            "The uncleaned suffix is CN\n",
            "The Cleaned suffix is CN\n",
            "['FM', 'CN']\n",
            "Replacing CN with CN\n",
            "The uncleaned suffix is NA\n",
            "The Cleaned suffix is AS\n",
            "['OCI', 'NA']\n",
            "Replacing NA with AS\n",
            "The uncleaned suffix is AU\n",
            "The Cleaned suffix is AX\n",
            "['S32', 'AU']\n",
            "Replacing AU with AX\n",
            "The uncleaned suffix is CN\n",
            "The Cleaned suffix is CN\n",
            "['IMO', 'CN']\n",
            "Replacing CN with CN\n",
            "The uncleaned suffix is NO\n",
            "The Cleaned suffix is OL\n",
            "['SALM', 'NO']\n",
            "Replacing NO with OL\n",
            "The uncleaned suffix is LI\n",
            "The Cleaned suffix is IL\n",
            "['KAP', 'LI']\n",
            "Replacing LI with IL\n",
            "The uncleaned suffix is AU\n",
            "The Cleaned suffix is AX\n",
            "['WDS', 'AU']\n",
            "Replacing AU with AX\n",
            "The uncleaned suffix is CN\n",
            "The Cleaned suffix is CN\n",
            "['CCO', 'CN']\n",
            "Replacing CN with CN\n",
            "The uncleaned suffix is JP\n",
            "The Cleaned suffix is T\n",
            "['5713', 'JP']\n",
            "Replacing JP with T\n",
            "The uncleaned suffix is SS\n",
            "The Cleaned suffix is ST\n",
            "['BOL', 'SS']\n",
            "Replacing SS with ST\n",
            "The uncleaned suffix is HK\n",
            "The Cleaned suffix is HK\n",
            "['358', 'HK']\n",
            "Replacing HK with HK\n",
            "The uncleaned suffix is CN\n",
            "The Cleaned suffix is CN\n",
            "['IVN', 'CN']\n",
            "Replacing CN with CN\n",
            "The uncleaned suffix is SM\n",
            "The Cleaned suffix is MC\n",
            "['REP', 'SM']\n",
            "Replacing SM with MC\n",
            "The uncleaned suffix is AU\n",
            "The Cleaned suffix is AX\n",
            "['MIN', 'AU']\n",
            "Replacing AU with AX\n",
            "The uncleaned suffix is GR\n",
            "The Cleaned suffix is DE\n",
            "['SDF', 'GR']\n",
            "Replacing GR with DE\n",
            "The uncleaned suffix is CN\n",
            "The Cleaned suffix is CN\n",
            "['TOU', 'CN']\n",
            "Replacing CN with CN\n",
            "The uncleaned suffix is AV\n",
            "The Cleaned suffix is VI\n",
            "['OMV', 'AV']\n",
            "Replacing AV with VI\n",
            "The uncleaned suffix is CN\n",
            "The Cleaned suffix is CN\n",
            "['LUN', 'CN']\n",
            "Replacing CN with CN\n",
            "The uncleaned suffix is GR\n",
            "The Cleaned suffix is DE\n",
            "['NDA', 'GR']\n",
            "Replacing GR with DE\n",
            "The uncleaned suffix is LI\n",
            "The Cleaned suffix is IL\n",
            "['LKOD', 'LI']\n",
            "Replacing LI with IL\n",
            "The uncleaned suffix is LI\n",
            "The Cleaned suffix is IL\n",
            "['MNOD', 'LI']\n",
            "Replacing LI with IL\n",
            "The uncleaned suffix is LI\n",
            "The Cleaned suffix is IL\n",
            "['NVTK', 'LI']\n",
            "Replacing LI with IL\n",
            "The uncleaned suffix is LI\n",
            "The Cleaned suffix is IL\n",
            "['OGZD', 'LI']\n",
            "Replacing LI with IL\n",
            "The uncleaned suffix is LI\n",
            "The Cleaned suffix is IL\n",
            "['PHOR', 'LI']\n",
            "Replacing LI with IL\n",
            "The uncleaned suffix is LI\n",
            "The Cleaned suffix is IL\n",
            "['ROSN', 'LI']\n",
            "Replacing LI with IL\n",
            "SHV GLDM TYU2.Comdty VTI WNU2.Comdty VWO VEA ^TYX ^TYX VIPSX VIPSX VIPSX VIPSX Cash&Other VIPSX VIPSX VIPSX VIPSX XOM BHP DE VIPSX CVX RIO VIPSX 912810QF8 SHEL GLEN.L VALE NTR.CN CTVA PTR TTE FCX FMG.AX COP AAL.L SCCO EQNR ECL BP ENPH SQM VWS.CO SNP 6326.T CF WDS MOS CNHI EOG CNQ.CN OXY AWK SEDG FERG.L PXD 968.HK 3993.HK E FMC SU.CN TECK/B.CN MOWI.OL SGRE.MC DVN ANTO.L YAR.OL 2208.HK CVE.CN GEBN.SW VIE.PA FM.CN OCI.AS HES S32.AX XYL IMO.CN PLUG IEX SALM.OL KAP.IL WDS.AX CCO.CN 5713.T BOL.ST AGCO TTC CLR 358.HK CTRA IVN.CN REP.MC FANG MIN.AX SSLZY SDF.DE TOU.CN MP OMV.VI MRO EC LUN.CN NDA.DE IVCGF LKOD.IL MNOD.IL NVTK.IL OGZD.IL PHOR.IL ROSN.IL\n"
          ]
        }
      ]
    },
    {
      "cell_type": "code",
      "source": [
        "get_stock_data(stock_symbols=list_of_tickers_str, start_date = \"2019-01-01\", end_date = \"2022-07-30\", timeframe=\"1mo\", filename=\"Test\" )"
      ],
      "metadata": {
        "colab": {
          "base_uri": "https://localhost:8080/",
          "height": 488
        },
        "id": "6ItOWVbvwB5j",
        "outputId": "c2245375-0c91-48e0-ba59-16bfe94a92a8"
      },
      "execution_count": null,
      "outputs": [
        {
          "output_type": "stream",
          "name": "stdout",
          "text": [
            "[*********************100%***********************]  101 of 101 completed\n",
            "\n",
            "22 Failed downloads:\n",
            "- MNOD.IL: No data found, symbol may be delisted\n",
            "- 968.HK: No data found, symbol may be delisted\n",
            "- CCO.CN: No data found, symbol may be delisted\n",
            "- SU.CN: No data found, symbol may be delisted\n",
            "- NVTK.IL: No data found, symbol may be delisted\n",
            "- WNU2.COMDTY: No data found, symbol may be delisted\n",
            "- LKOD.IL: No data found, symbol may be delisted\n",
            "- 358.HK: No data found, symbol may be delisted\n",
            "- TECK/B.CN: No data found for this date range, symbol may be delisted\n",
            "- TYU2.COMDTY: No data found, symbol may be delisted\n",
            "- LUN.CN: No data found, symbol may be delisted\n",
            "- PHOR.IL: No data found, symbol may be delisted\n",
            "- TOU.CN: No data found, symbol may be delisted\n",
            "- IMO.CN: No data found, symbol may be delisted\n",
            "- IVN.CN: No data found, symbol may be delisted\n",
            "- 912810QF8: No data found, symbol may be delisted\n",
            "- FM.CN: No data found, symbol may be delisted\n",
            "- OGZD.IL: No data found, symbol may be delisted\n",
            "- CASH&OTHER: No data found, symbol may be delisted\n",
            "- NTR.CN: No data found, symbol may be delisted\n",
            "- CVE.CN: No data found, symbol may be delisted\n",
            "- CNQ.CN: No data found, symbol may be delisted\n"
          ]
        },
        {
          "output_type": "display_data",
          "data": {
            "text/plain": [
              "<IPython.core.display.Javascript object>"
            ],
            "application/javascript": [
              "\n",
              "    async function download(id, filename, size) {\n",
              "      if (!google.colab.kernel.accessAllowed) {\n",
              "        return;\n",
              "      }\n",
              "      const div = document.createElement('div');\n",
              "      const label = document.createElement('label');\n",
              "      label.textContent = `Downloading \"${filename}\": `;\n",
              "      div.appendChild(label);\n",
              "      const progress = document.createElement('progress');\n",
              "      progress.max = size;\n",
              "      div.appendChild(progress);\n",
              "      document.body.appendChild(div);\n",
              "\n",
              "      const buffers = [];\n",
              "      let downloaded = 0;\n",
              "\n",
              "      const channel = await google.colab.kernel.comms.open(id);\n",
              "      // Send a message to notify the kernel that we're ready.\n",
              "      channel.send({})\n",
              "\n",
              "      for await (const message of channel.messages) {\n",
              "        // Send a message to notify the kernel that we're ready.\n",
              "        channel.send({})\n",
              "        if (message.buffers) {\n",
              "          for (const buffer of message.buffers) {\n",
              "            buffers.push(buffer);\n",
              "            downloaded += buffer.byteLength;\n",
              "            progress.value = downloaded;\n",
              "          }\n",
              "        }\n",
              "      }\n",
              "      const blob = new Blob(buffers, {type: 'application/binary'});\n",
              "      const a = document.createElement('a');\n",
              "      a.href = window.URL.createObjectURL(blob);\n",
              "      a.download = filename;\n",
              "      div.appendChild(a);\n",
              "      a.click();\n",
              "      div.remove();\n",
              "    }\n",
              "  "
            ]
          },
          "metadata": {}
        },
        {
          "output_type": "display_data",
          "data": {
            "text/plain": [
              "<IPython.core.display.Javascript object>"
            ],
            "application/javascript": [
              "download(\"download_a02b43bb-1c6a-476c-9568-2cd099cbde43\", \"Test.csv\", 594756)"
            ]
          },
          "metadata": {}
        },
        {
          "output_type": "stream",
          "name": "stdout",
          "text": [
            "['MNOD.IL', '968.HK', 'CCO.CN', 'SU.CN', 'NVTK.IL', 'WNU2.COMDTY', 'LKOD.IL', '358.HK', 'TECK/B.CN', 'TYU2.COMDTY', 'LUN.CN', 'PHOR.IL', 'TOU.CN', 'IMO.CN', 'IVN.CN', '912810QF8', 'FM.CN', 'OGZD.IL', 'CASH&OTHER', 'NTR.CN', 'CVE.CN', 'CNQ.CN']\n"
          ]
        }
      ]
    },
    {
      "cell_type": "code",
      "source": [
        " "
      ],
      "metadata": {
        "id": "p8c6HjxpzpX1"
      },
      "execution_count": null,
      "outputs": []
    },
    {
      "cell_type": "markdown",
      "source": [
        "## Retrieve Dividend Data"
      ],
      "metadata": {
        "id": "UpaKN9GkeH3x"
      }
    },
    {
      "cell_type": "code",
      "source": [
        "!pip install yfinance"
      ],
      "metadata": {
        "colab": {
          "base_uri": "https://localhost:8080/"
        },
        "id": "7TS-FnRxeJm3",
        "outputId": "fd452115-4ab7-4d48-feee-0ea4b5256cab"
      },
      "execution_count": null,
      "outputs": [
        {
          "output_type": "stream",
          "name": "stdout",
          "text": [
            "Looking in indexes: https://pypi.org/simple, https://us-python.pkg.dev/colab-wheels/public/simple/\n",
            "Collecting yfinance\n",
            "  Downloading yfinance-0.1.87-py2.py3-none-any.whl (29 kB)\n",
            "Requirement already satisfied: appdirs>=1.4.4 in /usr/local/lib/python3.7/dist-packages (from yfinance) (1.4.4)\n",
            "Requirement already satisfied: numpy>=1.15 in /usr/local/lib/python3.7/dist-packages (from yfinance) (1.21.6)\n",
            "Requirement already satisfied: pandas>=0.24.0 in /usr/local/lib/python3.7/dist-packages (from yfinance) (1.3.5)\n",
            "Requirement already satisfied: multitasking>=0.0.7 in /usr/local/lib/python3.7/dist-packages (from yfinance) (0.0.11)\n",
            "Collecting requests>=2.26\n",
            "  Downloading requests-2.28.1-py3-none-any.whl (62 kB)\n",
            "\u001b[K     |████████████████████████████████| 62 kB 1.2 MB/s \n",
            "\u001b[?25hRequirement already satisfied: lxml>=4.5.1 in /usr/local/lib/python3.7/dist-packages (from yfinance) (4.9.1)\n",
            "Requirement already satisfied: python-dateutil>=2.7.3 in /usr/local/lib/python3.7/dist-packages (from pandas>=0.24.0->yfinance) (2.8.2)\n",
            "Requirement already satisfied: pytz>=2017.3 in /usr/local/lib/python3.7/dist-packages (from pandas>=0.24.0->yfinance) (2022.6)\n",
            "Requirement already satisfied: six>=1.5 in /usr/local/lib/python3.7/dist-packages (from python-dateutil>=2.7.3->pandas>=0.24.0->yfinance) (1.15.0)\n",
            "Requirement already satisfied: urllib3<1.27,>=1.21.1 in /usr/local/lib/python3.7/dist-packages (from requests>=2.26->yfinance) (1.24.3)\n",
            "Requirement already satisfied: idna<4,>=2.5 in /usr/local/lib/python3.7/dist-packages (from requests>=2.26->yfinance) (2.10)\n",
            "Requirement already satisfied: charset-normalizer<3,>=2 in /usr/local/lib/python3.7/dist-packages (from requests>=2.26->yfinance) (2.1.1)\n",
            "Requirement already satisfied: certifi>=2017.4.17 in /usr/local/lib/python3.7/dist-packages (from requests>=2.26->yfinance) (2022.9.24)\n",
            "Installing collected packages: requests, yfinance\n",
            "  Attempting uninstall: requests\n",
            "    Found existing installation: requests 2.23.0\n",
            "    Uninstalling requests-2.23.0:\n",
            "      Successfully uninstalled requests-2.23.0\n",
            "Successfully installed requests-2.28.1 yfinance-0.1.87\n"
          ]
        }
      ]
    },
    {
      "cell_type": "code",
      "source": [
        "import yfinance as yf\n",
        "import pandas as pd\n",
        "\n",
        "\n",
        "tickers_list = [\"aapl\"]\n",
        "tickers_data= {} # empty dictionary\n",
        "\n",
        "\n",
        "start_date ='2014-01-01'\n",
        "end_date = '2019-01-01'\n",
        "\n",
        "for ticker in tickers_list:\n",
        "    ticker_object = yf.Ticker(ticker)\n",
        "    ticker_dividends_df = ticker_object.dividends.to_frame()\n",
        "    ticker_dividends_df = ticker_dividends_df.loc[start_date:end_date]\n",
        "    ticker_dividends_df.to_csv(\"/content/{}.csv\".format(ticker))\n",
        "\n",
        "\n",
        "\n"
      ],
      "metadata": {
        "id": "DpHykAo2ePvL"
      },
      "execution_count": null,
      "outputs": []
    },
    {
      "cell_type": "code",
      "source": [],
      "metadata": {
        "id": "he6F3QMze8Fi"
      },
      "execution_count": null,
      "outputs": []
    }
  ],
  "metadata": {
    "colab": {
      "collapsed_sections": [
        "4E3IeYbruNd3"
      ],
      "provenance": []
    },
    "kernelspec": {
      "display_name": "Python 3",
      "name": "python3"
    },
    "language_info": {
      "name": "python"
    }
  },
  "nbformat": 4,
  "nbformat_minor": 0
}